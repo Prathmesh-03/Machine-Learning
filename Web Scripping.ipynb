{
 "cells": [
  {
   "cell_type": "code",
   "execution_count": 1,
   "id": "6d6f0d87",
   "metadata": {},
   "outputs": [],
   "source": [
    "import pandas as pd\n",
    "import requests\n",
    "from bs4 import BeautifulSoup"
   ]
  },
  {
   "cell_type": "code",
   "execution_count": 2,
   "id": "94ec97a1",
   "metadata": {},
   "outputs": [],
   "source": [
    "url = 'https://www.ambitionbox.com/list-of-companies?campaign=desktop_nav&page=1'"
   ]
  },
  {
   "cell_type": "code",
   "execution_count": 3,
   "id": "569a659d",
   "metadata": {},
   "outputs": [],
   "source": [
    "# headers={'User-Agent':'Mozilla/5.0 (Windows NT 6.3; Win 64 ; x64) Apple WeKit /537.36(KHTML , like Gecko) Chrome/80.0.3987.162 Safari/537.36'} \n",
    "# webpage = requests.get(url)"
   ]
  },
  {
   "cell_type": "code",
   "execution_count": null,
   "id": "2a8541bd",
   "metadata": {},
   "outputs": [],
   "source": [
    "headers = {\n",
    "    'User-Agent': 'Mozilla/5.0 (Windows NT 10.0; Win64; x64) AppleWebKit/537.36 (KHTML, like Gecko) Chrome/91.0.4472.124 Safari/537.36'\n",
    "}\n",
    "\n",
    "try:\n",
    "    response = requests.get(url, headers=headers)\n",
    "    if response.status_code == 200:\n",
    "        soup = BeautifulSoup(response.content, 'html.parser')\n",
    "        # Scraping logic here\n",
    "        # Example:\n",
    "        # links = soup.find_all('a', href=True)\n",
    "        # for link in links:\n",
    "        #     print(link['href'])\n",
    "    else: \n",
    "        print(f\"Failed to retrieve page: {response.status_code}\")\n",
    "except requests.exceptions.RequestException as e:\n",
    "    print(f\"Error accessing URL: {e}\")\n",
    "\n",
    "# If access is denied, you might want to retry after some delay\n",
    "# Example retry strategy:\n",
    "# time.sleep(5)  # Wait for 5 seconds before retrying\n",
    "# Retry logic here...\n"
   ]
  },
  {
   "cell_type": "code",
   "execution_count": null,
   "id": "196421e4",
   "metadata": {},
   "outputs": [],
   "source": [
    "webpage\n",
    "soup = BeautifulSoup(webpage.content,'html.parser')"
   ]
  },
  {
   "cell_type": "code",
   "execution_count": null,
   "id": "106eefa9",
   "metadata": {},
   "outputs": [],
   "source": [
    "print(soup.prettify())#it will formate the html code"
   ]
  },
  {
   "cell_type": "code",
   "execution_count": null,
   "id": "7071565e",
   "metadata": {},
   "outputs": [],
   "source": [
    "soup.find_all('h1')[0].text"
   ]
  },
  {
   "cell_type": "code",
   "execution_count": null,
   "id": "1f431185-83aa-4a20-a568-62e62b965fd5",
   "metadata": {},
   "outputs": [],
   "source": []
  }
 ],
 "metadata": {
  "kernelspec": {
   "display_name": "Python 3 (ipykernel)",
   "language": "python",
   "name": "python3"
  },
  "language_info": {
   "codemirror_mode": {
    "name": "ipython",
    "version": 3
   },
   "file_extension": ".py",
   "mimetype": "text/x-python",
   "name": "python",
   "nbconvert_exporter": "python",
   "pygments_lexer": "ipython3",
   "version": "3.12.4"
  }
 },
 "nbformat": 4,
 "nbformat_minor": 5
}
